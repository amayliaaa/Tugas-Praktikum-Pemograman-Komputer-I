{
 "cells": [
  {
   "cell_type": "code",
   "execution_count": 1,
   "id": "04107e42-2813-4ecd-91ed-d4767e1a73a2",
   "metadata": {},
   "outputs": [
    {
     "name": "stdout",
     "output_type": "stream",
     "text": [
      "Amaylia Ayu Kusumaningtyas-200601110088\n"
     ]
    }
   ],
   "source": [
    "print(\"Amaylia Ayu Kusumaningtyas-200601110088\")"
   ]
  },
  {
   "cell_type": "code",
   "execution_count": 2,
   "id": "2dc32ded-83e1-40a2-9997-a1f7e3b0952f",
   "metadata": {},
   "outputs": [
    {
     "name": "stdout",
     "output_type": "stream",
     "text": [
      "Catatan Pertemuan 4\n"
     ]
    }
   ],
   "source": [
    "print(\"Catatan Pertemuan 4\")"
   ]
  },
  {
   "cell_type": "code",
   "execution_count": 3,
   "id": "2c9a6b64-e3cb-4f20-adbb-8fb32b698931",
   "metadata": {},
   "outputs": [
    {
     "name": "stdout",
     "output_type": "stream",
     "text": [
      "Algoritma 4.1\n"
     ]
    }
   ],
   "source": [
    "print(\"Algoritma 4.1\")"
   ]
  },
  {
   "cell_type": "code",
   "execution_count": 4,
   "id": "450b2aaa-2fd2-4a64-a9bc-ce3205d616d4",
   "metadata": {},
   "outputs": [],
   "source": [
    "def kali(a,b):\n",
    "    c = a*b\n",
    "    return c # mengembalikan nilai ke baris pemanggil"
   ]
  },
  {
   "cell_type": "code",
   "execution_count": 5,
   "id": "1720c239-786f-4eaa-a5d2-af19b694d2dc",
   "metadata": {},
   "outputs": [],
   "source": [
    "def tulis(s):\n",
    "    print(s)"
   ]
  },
  {
   "cell_type": "code",
   "execution_count": 6,
   "id": "5616d38c-dc18-4086-86f2-494d618cd677",
   "metadata": {},
   "outputs": [
    {
     "data": {
      "text/plain": [
       "50"
      ]
     },
     "execution_count": 6,
     "metadata": {},
     "output_type": "execute_result"
    }
   ],
   "source": [
    "z = kali(10,5)\n",
    "z"
   ]
  },
  {
   "cell_type": "code",
   "execution_count": 7,
   "id": "c0b2426c-ebf0-45d3-9ea4-b619c32c643a",
   "metadata": {},
   "outputs": [
    {
     "name": "stdout",
     "output_type": "stream",
     "text": [
      "Pemograman Komputer I dengan Python\n"
     ]
    }
   ],
   "source": [
    "tulis('Pemograman Komputer I dengan Python')"
   ]
  },
  {
   "cell_type": "code",
   "execution_count": 8,
   "id": "265beb60-7bc9-47b6-9408-7cff56123784",
   "metadata": {},
   "outputs": [
    {
     "name": "stdout",
     "output_type": "stream",
     "text": [
      "50\n"
     ]
    }
   ],
   "source": [
    "tulis(z)"
   ]
  },
  {
   "cell_type": "markdown",
   "id": "59896d9e-2ab1-4d23-b9e6-607b43ec9e9e",
   "metadata": {},
   "source": [
    "4.1 Fungsi Global\n",
    "\n",
    "Fungsi global adalah fungsi yang didefinisikan di dalam suatu modul dan dapat dipanggil oleh fungsi lain, baik yang berada di dalam modul yang sama maupun modul lain."
   ]
  },
  {
   "cell_type": "code",
   "execution_count": 10,
   "id": "6c7f653a-3c06-48c7-a93a-f0b3160629a0",
   "metadata": {},
   "outputs": [
    {
     "name": "stdin",
     "output_type": "stream",
     "text": [
      "Masukkan nilai anda:  70\n"
     ]
    }
   ],
   "source": [
    "nilai = input(\"Masukkan nilai anda: \")"
   ]
  },
  {
   "cell_type": "code",
   "execution_count": 11,
   "id": "8d85cf63-2765-481c-b5f4-9941bf143cda",
   "metadata": {},
   "outputs": [
    {
     "name": "stdout",
     "output_type": "stream",
     "text": [
      "Anda lulus ujian! SELAMAT!\n"
     ]
    }
   ],
   "source": [
    "if int(nilai) >= 70:\n",
    "    print(\"Anda lulus ujian! SELAMAT!\")\n",
    "else:\n",
    "    print(\"Anda belum lulus ujian!\")"
   ]
  },
  {
   "cell_type": "code",
   "execution_count": 12,
   "id": "c62a5c6c-9e55-4425-bdf8-b2944796a12e",
   "metadata": {},
   "outputs": [
    {
     "name": "stdout",
     "output_type": "stream",
     "text": [
      "Anda lulus ujian! SELAMAT!\n"
     ]
    }
   ],
   "source": [
    "if int(nilai) < 0 or int(nilai) > 100:\n",
    "    print(\"Nilai Anda Tidak valid\")\n",
    "elif int(nilai) >= 70:\n",
    "    print(\"Anda lulus ujian! SELAMAT!\")\n",
    "else :\n",
    "    print(\"Anda belum lulus ujian!\")"
   ]
  },
  {
   "cell_type": "code",
   "execution_count": null,
   "id": "ff098781-690c-4c45-aeee-45fc69bc5a3a",
   "metadata": {},
   "outputs": [],
   "source": []
  }
 ],
 "metadata": {
  "kernelspec": {
   "display_name": "Python 3 (ipykernel)",
   "language": "python",
   "name": "python3"
  },
  "language_info": {
   "codemirror_mode": {
    "name": "ipython",
    "version": 3
   },
   "file_extension": ".py",
   "mimetype": "text/x-python",
   "name": "python",
   "nbconvert_exporter": "python",
   "pygments_lexer": "ipython3",
   "version": "3.10.2"
  }
 },
 "nbformat": 4,
 "nbformat_minor": 5
}
