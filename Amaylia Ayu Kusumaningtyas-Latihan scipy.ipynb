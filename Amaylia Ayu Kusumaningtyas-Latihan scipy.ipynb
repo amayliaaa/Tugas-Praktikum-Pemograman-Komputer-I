{
 "cells": [
  {
   "cell_type": "code",
   "execution_count": 1,
   "id": "8f33e4b8-02ae-410d-b046-3ca42840d97a",
   "metadata": {},
   "outputs": [
    {
     "name": "stdout",
     "output_type": "stream",
     "text": [
      "Amaylia Ayu Kusumaningtyas-200601110088\n"
     ]
    }
   ],
   "source": [
    "print(\"Amaylia Ayu Kusumaningtyas-200601110088\")"
   ]
  },
  {
   "cell_type": "code",
   "execution_count": 2,
   "id": "e40939c8-4c9d-4aaf-bd43-a1a7c33fa126",
   "metadata": {},
   "outputs": [],
   "source": [
    "from sympy import *\n",
    "x, y, q = symbols('x y q')"
   ]
  },
  {
   "cell_type": "code",
   "execution_count": 3,
   "id": "675d953c-27f4-4378-a4a7-0e1f6cbea862",
   "metadata": {},
   "outputs": [
    {
     "data": {
      "text/latex": [
       "$\\displaystyle 1$"
      ],
      "text/plain": [
       "1"
      ]
     },
     "execution_count": 3,
     "metadata": {},
     "output_type": "execute_result"
    }
   ],
   "source": [
    "limit(sin(x-2)/(x**2-3*x+2), x, 2)"
   ]
  },
  {
   "cell_type": "code",
   "execution_count": 4,
   "id": "b6994749-b23c-4e1a-ad4d-e351bbc8ce0f",
   "metadata": {},
   "outputs": [
    {
     "data": {
      "text/latex": [
       "$\\displaystyle \\left(e^{x} + 1\\right) \\cos{\\left(y \\right)} - \\sin{\\left(y \\right)}$"
      ],
      "text/plain": [
       "(exp(x) + 1)*cos(y) - sin(y)"
      ]
     },
     "execution_count": 4,
     "metadata": {},
     "output_type": "execute_result"
    }
   ],
   "source": [
    "diff(cos(y)+(1+exp(x))*sin(y), y)"
   ]
  },
  {
   "cell_type": "code",
   "execution_count": 5,
   "id": "bf13efbb-ee19-4ca4-97aa-0b0206752b11",
   "metadata": {},
   "outputs": [
    {
     "data": {
      "text/latex": [
       "$\\displaystyle \\frac{2}{3}$"
      ],
      "text/plain": [
       "2/3"
      ]
     },
     "execution_count": 5,
     "metadata": {},
     "output_type": "execute_result"
    }
   ],
   "source": [
    "integrate(sin(3*x)+cos(3*x), (x, 0, pi/6))"
   ]
  },
  {
   "cell_type": "code",
   "execution_count": 6,
   "id": "57b2a768-be49-4b45-8dbb-764c6f8aad65",
   "metadata": {},
   "outputs": [
    {
     "data": {
      "text/latex": [
       "$\\displaystyle 2 \\sqrt{2} + 6$"
      ],
      "text/plain": [
       "2*sqrt(2) + 6"
      ]
     },
     "execution_count": 6,
     "metadata": {},
     "output_type": "execute_result"
    }
   ],
   "source": [
    "integrate(2*sin(x)+6*cos(x), (x, -pi/2, pi/4))"
   ]
  },
  {
   "cell_type": "code",
   "execution_count": 7,
   "id": "2e551090-d82b-4527-9214-e2a0ea6b29d1",
   "metadata": {},
   "outputs": [
    {
     "data": {
      "text/plain": [
       "{6: 1, -2: 1}"
      ]
     },
     "execution_count": 7,
     "metadata": {},
     "output_type": "execute_result"
    }
   ],
   "source": [
    "Matrix([[1, 5], [3, 3]]).eigenvals()"
   ]
  }
 ],
 "metadata": {
  "kernelspec": {
   "display_name": "Python 3 (ipykernel)",
   "language": "python",
   "name": "python3"
  },
  "language_info": {
   "codemirror_mode": {
    "name": "ipython",
    "version": 3
   },
   "file_extension": ".py",
   "mimetype": "text/x-python",
   "name": "python",
   "nbconvert_exporter": "python",
   "pygments_lexer": "ipython3",
   "version": "3.10.2"
  }
 },
 "nbformat": 4,
 "nbformat_minor": 5
}
