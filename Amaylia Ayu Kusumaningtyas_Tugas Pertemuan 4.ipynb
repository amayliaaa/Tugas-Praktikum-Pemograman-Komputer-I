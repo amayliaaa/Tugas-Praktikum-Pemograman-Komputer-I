{
 "cells": [
  {
   "cell_type": "code",
   "execution_count": 1,
   "id": "2da4d045-d715-42df-8e7e-6f196e1e7c5a",
   "metadata": {},
   "outputs": [
    {
     "name": "stdout",
     "output_type": "stream",
     "text": [
      "Amaylia Ayu Kusumaningtyas_200601110088\n"
     ]
    }
   ],
   "source": [
    "print(\"Amaylia Ayu Kusumaningtyas_200601110088\")"
   ]
  },
  {
   "cell_type": "markdown",
   "id": "0fce1d8b-e050-42e6-93ad-3a14728e5474",
   "metadata": {},
   "source": [
    "1. Buatlah program untuk menginputkan dua buah bilangan bulat, kemudian mencetak salah satu bilangan yang nilainya terbesar !"
   ]
  },
  {
   "cell_type": "code",
   "execution_count": 2,
   "id": "6a4bca96-436c-4852-b228-25e77b2f0709",
   "metadata": {},
   "outputs": [],
   "source": [
    "def main():\n",
    "    #membuat judul program\n",
    "    print(\"menentukan nilai terbesar dari dua buah bilangan bulat\")"
   ]
  },
  {
   "cell_type": "code",
   "execution_count": 3,
   "id": "3950b50f-e1ec-4d3f-8045-98eb4a32f9da",
   "metadata": {},
   "outputs": [
    {
     "name": "stdin",
     "output_type": "stream",
     "text": [
      "masukkan bilangan bulat pertama:  7\n",
      "masukkan bilangan bulat kedua:  5\n"
     ]
    }
   ],
   "source": [
    "#menginputkan nilai bilangan bulat\n",
    "a = int(input(\"masukkan bilangan bulat pertama: \"))\n",
    "b = int(input(\"masukkan bilangan bulat kedua: \"))"
   ]
  },
  {
   "cell_type": "code",
   "execution_count": 4,
   "id": "4b4c33a6-1095-4e4b-99fa-ddcdf3d6eae3",
   "metadata": {},
   "outputs": [
    {
     "name": "stdout",
     "output_type": "stream",
     "text": [
      "nilai terbesar adalah 7\n"
     ]
    }
   ],
   "source": [
    "#menentukan nilai bilangan bulat terbesar dengan if else\n",
    "if a > b:\n",
    "    maks = a\n",
    "else:\n",
    "    maks = b\n",
    "#mencetak nilai terbesar \n",
    "print(\"nilai terbesar adalah %d\" %maks)"
   ]
  },
  {
   "cell_type": "markdown",
   "id": "67f976f2-5cd6-45f2-a88f-ab4fb0a82dea",
   "metadata": {},
   "source": [
    "2. Pada akhir semester seorang dosen menghitung nilai akhir dari mahasiswa yang terdiri dari nilai uas, uts, kuis, dan tugas. Nilai akhir didapatkan dari 40% nilai uas, 30% nilai uts, 10% nilai kuis, dan 20% nilai tugas. Jika nilai akhir dari mahasiswa di bawah 65 maka mahasiswa tersebut akan mendapatkan remidi. Buatlah program untuk membantu mengetahui mahasiswa yang mendapatkan remidi berdasarkan nilai akhir yang didapatkannya !"
   ]
  },
  {
   "cell_type": "code",
   "execution_count": 5,
   "id": "801f85bb-47ea-4e6d-8573-7a9c8bbf5d4b",
   "metadata": {},
   "outputs": [],
   "source": [
    "def main():\n",
    "    #membuat judul program\n",
    "    print(\"menentukan nilai akhir mahasiswa\")"
   ]
  },
  {
   "cell_type": "code",
   "execution_count": 6,
   "id": "0455a6ea-2e81-428a-994d-ee4d78ae6220",
   "metadata": {},
   "outputs": [
    {
     "name": "stdin",
     "output_type": "stream",
     "text": [
      "masukkan nilai uas:  90\n",
      "masukkan nilai uts:  80\n",
      "masukkan nilai kuis:  90\n",
      "masukkan nilai tugas:  70\n"
     ]
    }
   ],
   "source": [
    "#menginputkan nilai mahasiswa\n",
    "a = int(input(\"masukkan nilai uas: \"))\n",
    "b = int(input(\"masukkan nilai uts: \"))\n",
    "c = int(input(\"masukkan nilai kuis: \"))\n",
    "d = int(input(\"masukkan nilai tugas: \"))"
   ]
  },
  {
   "cell_type": "code",
   "execution_count": 7,
   "id": "40844b6b-1172-4fbf-8be2-a8438ba8b6f7",
   "metadata": {},
   "outputs": [
    {
     "name": "stdout",
     "output_type": "stream",
     "text": [
      "mahasiswa tidak remidi\n"
     ]
    }
   ],
   "source": [
    "#menentukan nilai mahasiswa\n",
    "if a*0.4 + b*0.3 + c*0.1 + d*0.2 > 65 :\n",
    "    print(\"mahasiswa tidak remidi\")\n",
    "else :\n",
    "    print(\"mahasiswa remidi\")"
   ]
  },
  {
   "cell_type": "markdown",
   "id": "7c8705c2-5630-4d42-902d-84cc2c4bc06d",
   "metadata": {},
   "source": [
    "3. Buatlah program kalkulator sederhana menggunakan Python. User akan memasukkan dua buah bilangan riil dan satu buah operator aritmatika (+, -, *, atau /), kemudian program akan mengoperasikan dua bilangan tersebut dengan operator yang sesuai."
   ]
  },
  {
   "cell_type": "code",
   "execution_count": 8,
   "id": "4c551f3c-aa7e-4aa2-a0f8-436ca0a6de14",
   "metadata": {},
   "outputs": [],
   "source": [
    "def main():\n",
    "    #membuat jdudul program\n",
    "    print(\"program kalkulator sederhana\")"
   ]
  },
  {
   "cell_type": "code",
   "execution_count": 9,
   "id": "33bf6749-68e7-4dd6-b377-be795736ded4",
   "metadata": {},
   "outputs": [
    {
     "name": "stdout",
     "output_type": "stream",
     "text": [
      "=========================\n",
      "Operasi Program Kalkulator\n",
      "  1. Penjumlahan \t [+]\n",
      "  2. Pengurangan \t [-]\n",
      "  3. Perkalian \t [*]\n",
      "  4. Pembagian \t [/]\n",
      "=========================\n"
     ]
    },
    {
     "name": "stdin",
     "output_type": "stream",
     "text": [
      "Pilih operasi (1/2/3/4):  3\n",
      "Masukkan bilangan pertama:  10\n",
      "Masukkan bilangan kedua:  2\n"
     ]
    }
   ],
   "source": [
    "print('=' * 25)\n",
    "print('Operasi Program Kalkulator')\n",
    "print('  1. Penjumlahan \\t [+]')\n",
    "print('  2. Pengurangan \\t [-]')\n",
    "print('  3. Perkalian \\t [*]')\n",
    "print('  4. Pembagian \\t [/]')\n",
    "print('=' * 25)\n",
    "\n",
    "operasi = input('Pilih operasi (1/2/3/4): ')\n",
    "bilangan_1 = eval(input('Masukkan bilangan pertama: '))\n",
    "bilangan_2 = eval(input('Masukkan bilangan kedua: '))\n"
   ]
  },
  {
   "cell_type": "code",
   "execution_count": 10,
   "id": "ef43fb24-0631-44e9-8fe1-469143f893ce",
   "metadata": {},
   "outputs": [
    {
     "name": "stdout",
     "output_type": "stream",
     "text": [
      "=========================\n",
      "User memilih operasi perkalian\n"
     ]
    }
   ],
   "source": [
    "print('=' * 25)\n",
    "\n",
    "if operasi == '1':\n",
    "  print('User memilih operasi penjumlahan')\n",
    "elif operasi == '2':\n",
    "  print('User memilih operasi pengurangan')\n",
    "elif operasi == '3':\n",
    "  print('User memilih operasi perkalian')\n",
    "elif operasi == '4':\n",
    "  print('User memilih operasi pembagian')\n",
    "else:\n",
    "  print('Tidak valid')"
   ]
  },
  {
   "cell_type": "code",
   "execution_count": 11,
   "id": "c2ce0dbc-1a39-45fa-88c9-51f2088ed51b",
   "metadata": {},
   "outputs": [
    {
     "name": "stdout",
     "output_type": "stream",
     "text": [
      "Hasil operasi dari 10 * 2 = 20\n"
     ]
    }
   ],
   "source": [
    "if operasi == '1':\n",
    "  hasil = bilangan_1 + bilangan_2\n",
    "  print(f'Hasil operasi dari {bilangan_1} + {bilangan_2} = {hasil}')\n",
    "elif operasi == '2':\n",
    "  hasil = bilangan_1 - bilangan_2\n",
    "  print(f'Hasil operasi dari {bilangan_1} - {bilangan_2} = {hasil}')\n",
    "elif operasi == '3':\n",
    "  hasil = bilangan_1 * bilangan_2\n",
    "  print(f'Hasil operasi dari {bilangan_1} * {bilangan_2} = {hasil}')\n",
    "elif operasi == '4':\n",
    "  hasil = bilangan_1 / bilangan_2\n",
    "  print(f'Hasil operasi dari {bilangan_1} / {bilangan_2} = {hasil}')\n",
    "else:\n",
    "  print('Tidak valid')"
   ]
  },
  {
   "cell_type": "code",
   "execution_count": null,
   "id": "f0be9383-2ed0-4301-bfe7-4474780db443",
   "metadata": {},
   "outputs": [],
   "source": []
  }
 ],
 "metadata": {
  "kernelspec": {
   "display_name": "Python 3 (ipykernel)",
   "language": "python",
   "name": "python3"
  },
  "language_info": {
   "codemirror_mode": {
    "name": "ipython",
    "version": 3
   },
   "file_extension": ".py",
   "mimetype": "text/x-python",
   "name": "python",
   "nbconvert_exporter": "python",
   "pygments_lexer": "ipython3",
   "version": "3.10.2"
  }
 },
 "nbformat": 4,
 "nbformat_minor": 5
}
