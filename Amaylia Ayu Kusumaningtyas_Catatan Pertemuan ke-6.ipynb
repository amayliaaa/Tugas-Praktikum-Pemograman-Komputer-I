{
 "cells": [
  {
   "cell_type": "markdown",
   "id": "fdce9b5d-848b-46df-aa4e-a53595ff01b2",
   "metadata": {},
   "source": [
    "AMAYLIA AYU KUSUMANINGTYAS-200601110088"
   ]
  },
  {
   "cell_type": "markdown",
   "id": "7b82b68c-6d7c-44df-b931-8e4074369b05",
   "metadata": {},
   "source": [
    "5.1 Pendahuluan\n",
    "\n",
    "- array NumPy disebut sebagai ndarray, atau dikenal juga dengan sebutan\n",
    "  array. Atribut yang paling penting dari ndarray adalah:\n",
    "\n",
    "- ndarray.ndim banyaknya axis atau dimensi dari array. Banyaknya dimensi disebut   sebagai rank.\n",
    "\n",
    "- ndarray.shape dimensi dari array. Ini adalah pasangan bilangan bulat yang   menunjukkan ukuran array di setiap dimensi.Panjangmdari pasangan shape adalah    rank, atau jumlah dimensi, ndim.\n",
    "\n",
    "- ndarray.size jumlah elemen dari array. Ini sama dengan perkalian elemen\n",
    "  dari shape.\n",
    "\n",
    "- ndarray.dtype sebuah objek yang menggambarkan jenis elemen dalam array\n",
    "\n",
    "- ndarray.itemsize adalah ukuran dalam byte dari setiap elemen array.\n",
    "\n",
    "- ndarray.data buffer yang mengandung elemen sebenarnya dari array. Biasanya,   kita tidak perlu menggunakan atribut ini karena akan mengakses elemen dalam array menggunakan fasilitas pengindeksan.\n",
    "\n",
    "  Contoh :"
   ]
  },
  {
   "cell_type": "code",
   "execution_count": 1,
   "id": "30d13d1b-7e90-4366-ae91-9d61c2702671",
   "metadata": {},
   "outputs": [
    {
     "data": {
      "text/plain": [
       "array([[ 0,  1,  2,  3,  4],\n",
       "       [ 5,  6,  7,  8,  9],\n",
       "       [10, 11, 12, 13, 14]])"
      ]
     },
     "execution_count": 1,
     "metadata": {},
     "output_type": "execute_result"
    }
   ],
   "source": [
    "import numpy as np\n",
    "a = np. arange (15) . reshape (3 , 5)\n",
    "a"
   ]
  },
  {
   "cell_type": "code",
   "execution_count": 2,
   "id": "2c97da6b-fa74-4977-b23c-04fe033dfd6d",
   "metadata": {},
   "outputs": [
    {
     "data": {
      "text/plain": [
       "(3, 5)"
      ]
     },
     "execution_count": 2,
     "metadata": {},
     "output_type": "execute_result"
    }
   ],
   "source": [
    "a. shape"
   ]
  },
  {
   "cell_type": "code",
   "execution_count": 3,
   "id": "a1a5fe03-d966-4951-9c5e-e556057b1cf3",
   "metadata": {},
   "outputs": [
    {
     "data": {
      "text/plain": [
       "2"
      ]
     },
     "execution_count": 3,
     "metadata": {},
     "output_type": "execute_result"
    }
   ],
   "source": [
    "a. ndim"
   ]
  },
  {
   "cell_type": "code",
   "execution_count": 4,
   "id": "21ab4633-4a5d-40bb-8be6-bd6f355ecb34",
   "metadata": {},
   "outputs": [
    {
     "data": {
      "text/plain": [
       "'int32'"
      ]
     },
     "execution_count": 4,
     "metadata": {},
     "output_type": "execute_result"
    }
   ],
   "source": [
    "a. dtype . name"
   ]
  },
  {
   "cell_type": "code",
   "execution_count": 5,
   "id": "563aea34-848b-4874-a851-91ee5b600ff9",
   "metadata": {},
   "outputs": [
    {
     "data": {
      "text/plain": [
       "4"
      ]
     },
     "execution_count": 5,
     "metadata": {},
     "output_type": "execute_result"
    }
   ],
   "source": [
    "a. itemsize"
   ]
  },
  {
   "cell_type": "code",
   "execution_count": 6,
   "id": "77b8816c-0acb-4825-9ccd-71663f5c6c00",
   "metadata": {},
   "outputs": [
    {
     "data": {
      "text/plain": [
       "15"
      ]
     },
     "execution_count": 6,
     "metadata": {},
     "output_type": "execute_result"
    }
   ],
   "source": [
    "a. size"
   ]
  },
  {
   "cell_type": "code",
   "execution_count": 7,
   "id": "6029ac1c-b4f5-4ff5-91c7-66053819342b",
   "metadata": {},
   "outputs": [
    {
     "data": {
      "text/plain": [
       "numpy.ndarray"
      ]
     },
     "execution_count": 7,
     "metadata": {},
     "output_type": "execute_result"
    }
   ],
   "source": [
    "type (a)"
   ]
  },
  {
   "cell_type": "code",
   "execution_count": 8,
   "id": "887cea94-de95-4749-9027-ea08266fc1e4",
   "metadata": {},
   "outputs": [
    {
     "data": {
      "text/plain": [
       "array([6, 7, 8])"
      ]
     },
     "execution_count": 8,
     "metadata": {},
     "output_type": "execute_result"
    }
   ],
   "source": [
    "b = np. array ([6 , 7 , 8])\n",
    "b"
   ]
  },
  {
   "cell_type": "code",
   "execution_count": 9,
   "id": "1b35cfc6-addf-4451-ba12-1db45c47980e",
   "metadata": {},
   "outputs": [
    {
     "data": {
      "text/plain": [
       "numpy.ndarray"
      ]
     },
     "execution_count": 9,
     "metadata": {},
     "output_type": "execute_result"
    }
   ],
   "source": [
    "type (b)"
   ]
  },
  {
   "cell_type": "markdown",
   "id": "e9409ad4-b7cb-49bf-9551-daad7dc13c8a",
   "metadata": {},
   "source": [
    "5.2 Membuat Array\n",
    "\n",
    "Ada beberapa cara untuk membuat array. Misalkan, kita dapat membuat array dari list Python biasa atau pasangan menggunakan fungsi array. Tipe array yang dihasilkan disimpulkan dari tipe elemen dalam array."
   ]
  },
  {
   "cell_type": "code",
   "execution_count": 10,
   "id": "e0ab330d-7663-4cb8-bf20-8d4cee10ac21",
   "metadata": {},
   "outputs": [
    {
     "data": {
      "text/plain": [
       "array([2, 3, 4])"
      ]
     },
     "execution_count": 10,
     "metadata": {},
     "output_type": "execute_result"
    }
   ],
   "source": [
    "import numpy as np\n",
    "a = np. array ([2 ,3 ,4])\n",
    "a"
   ]
  },
  {
   "cell_type": "code",
   "execution_count": 11,
   "id": "bb7547c5-0d58-40b3-be5b-9faf34908eda",
   "metadata": {},
   "outputs": [
    {
     "data": {
      "text/plain": [
       "dtype('int32')"
      ]
     },
     "execution_count": 11,
     "metadata": {},
     "output_type": "execute_result"
    }
   ],
   "source": [
    "a. dtype"
   ]
  },
  {
   "cell_type": "code",
   "execution_count": 12,
   "id": "e7699e13-f544-44a9-946a-f8bdb8bca960",
   "metadata": {},
   "outputs": [
    {
     "data": {
      "text/plain": [
       "array([1.2, 3.5, 5.1])"
      ]
     },
     "execution_count": 12,
     "metadata": {},
     "output_type": "execute_result"
    }
   ],
   "source": [
    "b = np. array ([1.2 , 3.5 , 5.1])\n",
    "b"
   ]
  },
  {
   "cell_type": "markdown",
   "id": "6d8994ee-409e-45ed-833e-551526f895c9",
   "metadata": {},
   "source": [
    "array mengubah barisan dari sebuah barisan menjadi array dua dimensi, barisan dari barisan sebuah barisan menjadi array tiga dimensi, dan seterusnya."
   ]
  },
  {
   "cell_type": "code",
   "execution_count": 13,
   "id": "c3fd2e8f-9399-4cfe-8300-c7967e5dc9c5",
   "metadata": {},
   "outputs": [
    {
     "data": {
      "text/plain": [
       "array([[1.5, 2. , 3. ],\n",
       "       [4. , 5. , 6. ]])"
      ]
     },
     "execution_count": 13,
     "metadata": {},
     "output_type": "execute_result"
    }
   ],
   "source": [
    "b = np. array ([(1.5 ,2 ,3) , (4 ,5 ,6) ])\n",
    "b"
   ]
  },
  {
   "cell_type": "markdown",
   "id": "a3c80ab8-7309-4ae7-ab4f-d4b1317cdde5",
   "metadata": {},
   "source": [
    "Jenis array juga dapat secara eksplisit ditentukan pada saat pembuatan :"
   ]
  },
  {
   "cell_type": "code",
   "execution_count": 14,
   "id": "4c0298a7-4d9b-4cff-9623-f32a6b881375",
   "metadata": {},
   "outputs": [
    {
     "data": {
      "text/plain": [
       "array([[1.+0.j, 2.+0.j],\n",
       "       [3.+0.j, 4.+0.j]])"
      ]
     },
     "execution_count": 14,
     "metadata": {},
     "output_type": "execute_result"
    }
   ],
   "source": [
    "c = np. array ( [ [1 ,2] , [3 ,4] ] , dtype = complex )\n",
    "c"
   ]
  },
  {
   "cell_type": "markdown",
   "id": "5294adc6-1db3-42e9-9e4a-47d6fdb61b57",
   "metadata": {},
   "source": [
    "Fungsi zeros menciptakan sebuah array yang berisi angka nol, fungsi ones\n",
    "yang menciptakan array yang berisi angka satu, dan fungsi empty menciptakan array yang isinya acak dan bergantung pada keadaan memori. Secara default, dtype dari array yang dibuat adalah float64."
   ]
  },
  {
   "cell_type": "code",
   "execution_count": 15,
   "id": "20750a9d-c43f-4940-8ab7-8cb8b8a0ad48",
   "metadata": {},
   "outputs": [
    {
     "data": {
      "text/plain": [
       "array([[0., 0., 0., 0.],\n",
       "       [0., 0., 0., 0.],\n",
       "       [0., 0., 0., 0.]])"
      ]
     },
     "execution_count": 15,
     "metadata": {},
     "output_type": "execute_result"
    }
   ],
   "source": [
    "np. zeros ( (3 ,4) )"
   ]
  },
  {
   "cell_type": "code",
   "execution_count": 17,
   "id": "dbd04d1a-8db7-4e2f-aba2-d3c3b1c5d675",
   "metadata": {},
   "outputs": [
    {
     "data": {
      "text/plain": [
       "array([[[1, 1, 1, 1],\n",
       "        [1, 1, 1, 1],\n",
       "        [1, 1, 1, 1]],\n",
       "\n",
       "       [[1, 1, 1, 1],\n",
       "        [1, 1, 1, 1],\n",
       "        [1, 1, 1, 1]]], dtype=int16)"
      ]
     },
     "execution_count": 17,
     "metadata": {},
     "output_type": "execute_result"
    }
   ],
   "source": [
    "np. ones ( (2 ,3 ,4) , dtype =np. int16 ) # dtype can also be specified"
   ]
  },
  {
   "cell_type": "code",
   "execution_count": 18,
   "id": "9fad0a98-1e29-43b6-a235-c9109cef4a20",
   "metadata": {},
   "outputs": [
    {
     "data": {
      "text/plain": [
       "array([[1.5, 2. , 3. ],\n",
       "       [4. , 5. , 6. ]])"
      ]
     },
     "execution_count": 18,
     "metadata": {},
     "output_type": "execute_result"
    }
   ],
   "source": [
    "np. empty ( (2 ,3) ) # uninitialized , output may vary"
   ]
  },
  {
   "cell_type": "markdown",
   "id": "678644bf-ae3c-452f-9e70-7ac429a6c07d",
   "metadata": {},
   "source": [
    "Untuk membuat barisan angka, NumPy menyediakan fungsi yang mirip dengan range yang outputnya berupa array dan bukan berupa list."
   ]
  },
  {
   "cell_type": "code",
   "execution_count": 19,
   "id": "3b2b9461-54cc-4aac-a081-d8168e5a1959",
   "metadata": {},
   "outputs": [
    {
     "data": {
      "text/plain": [
       "array([10, 15, 20, 25])"
      ]
     },
     "execution_count": 19,
     "metadata": {},
     "output_type": "execute_result"
    }
   ],
   "source": [
    "np. arange (10 ,30 ,5 )"
   ]
  },
  {
   "cell_type": "code",
   "execution_count": 20,
   "id": "a0c4a1ec-fdcc-479b-bb9c-9f3b364e5951",
   "metadata": {},
   "outputs": [
    {
     "data": {
      "text/plain": [
       "array([0. , 0.3, 0.6, 0.9, 1.2, 1.5, 1.8])"
      ]
     },
     "execution_count": 20,
     "metadata": {},
     "output_type": "execute_result"
    }
   ],
   "source": [
    "np. arange (0 ,2 ,0.3 ) # it accepts float arguments"
   ]
  },
  {
   "cell_type": "markdown",
   "id": "4b3cd6b6-90f9-4208-a35b-6ab6370b38eb",
   "metadata": {},
   "source": [
    "Jika arange digunakan dengan argumen floating point, biasanya sulit memprediksi jumlah elemen yang diperoleh, karena presisi floating point yang terbatas. Untuk itu, lebih baik menggunakan fungsi linspace yang dapat menerima masukan berapa jumlah elemen yang kita inginkan"
   ]
  },
  {
   "cell_type": "code",
   "execution_count": 21,
   "id": "5a91d609-fce6-4b7d-85ac-56267b319c15",
   "metadata": {},
   "outputs": [
    {
     "data": {
      "text/plain": [
       "array([0.  , 0.25, 0.5 , 0.75, 1.  , 1.25, 1.5 , 1.75, 2.  ])"
      ]
     },
     "execution_count": 21,
     "metadata": {},
     "output_type": "execute_result"
    }
   ],
   "source": [
    "from numpy import pi\n",
    "np. linspace (0 ,2 ,9) #9 numbers from 0 to 2"
   ]
  },
  {
   "cell_type": "code",
   "execution_count": 22,
   "id": "1b1f080e-4e25-4f57-bda8-8a9a46cdcde6",
   "metadata": {},
   "outputs": [],
   "source": [
    "x = np. linspace (0 ,2*pi ,100 ) # useful to evaluate function at lots of points\n",
    "f = np.sin (x)"
   ]
  },
  {
   "cell_type": "markdown",
   "id": "0b224412-bd50-41f6-8490-d8aa8b24ab43",
   "metadata": {},
   "source": [
    "5.3 Menampilkan Array\n",
    "\n",
    "Saat menampilkan array, NumPy menampilkannya dengan cara yang mirip dengan daftar bersarang, namun dengan tata letak berikut:\n",
    "- axis terakhir dicetak dari kiri ke kanan,\n",
    "- yang kedua sampai yang terakhir dicetak dari atas ke bawah,\n",
    "- Sisanya juga dicetak dari atas ke bawah, dengan masing-masing potongan   dipisahkan oleh sebuah baris kosong.\n",
    "\n",
    "array satu dimensi dicetak sebagai baris, array dua dimensi sebagai matriks dan tridimensionals sebagai daftar matriks."
   ]
  },
  {
   "cell_type": "code",
   "execution_count": 23,
   "id": "45349666-25d0-4aef-b8cf-fd7ea82dde2d",
   "metadata": {},
   "outputs": [
    {
     "name": "stdout",
     "output_type": "stream",
     "text": [
      "[0 1 2 3 4 5]\n"
     ]
    }
   ],
   "source": [
    "a = np. arange (6) #1d array\n",
    "print (a)"
   ]
  },
  {
   "cell_type": "code",
   "execution_count": 24,
   "id": "4c769228-3908-437c-b1f5-2b3d18a16922",
   "metadata": {},
   "outputs": [
    {
     "name": "stdout",
     "output_type": "stream",
     "text": [
      "[[ 0  1  2]\n",
      " [ 3  4  5]\n",
      " [ 6  7  8]\n",
      " [ 9 10 11]]\n"
     ]
    }
   ],
   "source": [
    "b = np. arange (12) . reshape (4 ,3) # 2d array\n",
    "print (b)"
   ]
  },
  {
   "cell_type": "code",
   "execution_count": 29,
   "id": "98ee4367-9ca3-4ce9-a55e-a07d3aba82dc",
   "metadata": {},
   "outputs": [
    {
     "name": "stdout",
     "output_type": "stream",
     "text": [
      "[[[ 0  1  2  3]\n",
      "  [ 4  5  6  7]\n",
      "  [ 8  9 10 11]]\n",
      "\n",
      " [[12 13 14 15]\n",
      "  [16 17 18 19]\n",
      "  [20 21 22 23]]]\n"
     ]
    }
   ],
   "source": [
    "c = np. arange (24) . reshape (2 ,3 ,4) # 3d array\n",
    "print (c)"
   ]
  },
  {
   "cell_type": "markdown",
   "id": "a0ec3e3e-16e5-48a4-8697-157bd7095050",
   "metadata": {},
   "source": [
    "Jika array terlalu besar untuk ditampilkan, NumPy secara otomatis memo\u0002tong bagian tengah array dan hanya mencetak ujung-ujungnya :"
   ]
  },
  {
   "cell_type": "code",
   "execution_count": 30,
   "id": "cb0bb040-45a8-4f76-b6a0-47ef2c18d090",
   "metadata": {},
   "outputs": [
    {
     "name": "stdout",
     "output_type": "stream",
     "text": [
      "[   0    1    2 ... 9997 9998 9999]\n"
     ]
    }
   ],
   "source": [
    "print (np. arange (10000) )"
   ]
  },
  {
   "cell_type": "code",
   "execution_count": 31,
   "id": "923d7f0e-f16c-4ba5-ba3b-250567d5220d",
   "metadata": {},
   "outputs": [
    {
     "name": "stdout",
     "output_type": "stream",
     "text": [
      "[[   0    1    2 ...   97   98   99]\n",
      " [ 100  101  102 ...  197  198  199]\n",
      " [ 200  201  202 ...  297  298  299]\n",
      " ...\n",
      " [9700 9701 9702 ... 9797 9798 9799]\n",
      " [9800 9801 9802 ... 9897 9898 9899]\n",
      " [9900 9901 9902 ... 9997 9998 9999]]\n"
     ]
    }
   ],
   "source": [
    "print (np. arange (10000) . reshape (100 ,100) )"
   ]
  },
  {
   "cell_type": "markdown",
   "id": "bfbb97ca-ea9b-4cc9-b141-4d523114010f",
   "metadata": {},
   "source": [
    "Untuk memaksa NumPy mencetak seluruh bagian array, kita dapat men\u0002gubah opsi print menggunakan set_printoptions."
   ]
  },
  {
   "cell_type": "markdown",
   "id": "9b63c125-a782-4faf-bbcf-79fd553e0189",
   "metadata": {},
   "source": [
    "np. set_printoptions ( threshold ='nan')"
   ]
  }
 ],
 "metadata": {
  "kernelspec": {
   "display_name": "Python 3 (ipykernel)",
   "language": "python",
   "name": "python3"
  },
  "language_info": {
   "codemirror_mode": {
    "name": "ipython",
    "version": 3
   },
   "file_extension": ".py",
   "mimetype": "text/x-python",
   "name": "python",
   "nbconvert_exporter": "python",
   "pygments_lexer": "ipython3",
   "version": "3.10.2"
  }
 },
 "nbformat": 4,
 "nbformat_minor": 5
}
