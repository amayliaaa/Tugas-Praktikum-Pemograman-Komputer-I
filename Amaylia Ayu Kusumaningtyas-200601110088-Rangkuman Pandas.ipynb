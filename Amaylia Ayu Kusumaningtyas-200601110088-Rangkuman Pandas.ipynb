{
 "cells": [
  {
   "cell_type": "code",
   "execution_count": 1,
   "id": "317ceeb7-e6f1-45e7-8288-23c1c0f795d4",
   "metadata": {},
   "outputs": [
    {
     "name": "stdout",
     "output_type": "stream",
     "text": [
      "Amaylia Ayu Kusumaningtyas-200601110088-Rangkuman Pandas\n"
     ]
    }
   ],
   "source": [
    "print(\"Amaylia Ayu Kusumaningtyas-200601110088-Rangkuman Pandas\")"
   ]
  },
  {
   "cell_type": "markdown",
   "id": "eb8aa8d6-42c1-4e40-8672-7a12928f1a8b",
   "metadata": {},
   "source": [
    "## Pandas\n",
    "\n",
    "* Pandas is derived from the term      \"panel data\",an econometrics term for data sets that include observations over multiple   time periods for the same individuals. \n",
    "\n",
    "* Pandas adalah sebuah librari berlisensi BSD dan open source yang menyediakan struktur data dan analisis data yang mudah       digunakan dan berkinerja tinggi untuk bahasa pemograman Python.\n",
    "\n",
    "* Librari analisis data yang memiliki struktur data yang diperlakukan untuk mengkonversi data mentah ke dalam bentuk / format   tabel sehingga memudahkan untuk analisis."
   ]
  },
  {
   "cell_type": "markdown",
   "id": "ddb4f792-823b-45a6-9883-4e9fe0689d25",
   "metadata": {},
   "source": [
    "## DataFrame\n",
    "\n",
    "* Struktur data dasar pandas dinamakan DataFrame \n",
    "* Koleksi kolom berurutan dengan bentuk sebuah tabel yang tampak seperti database dimana sebuah baris tunggal mewakili sebuah   data tunggal dan kolom mewakili atribut tertentu\n",
    "* Dengan adanya fitur dataframe memudahkan untuk membaca sebuah file dan menjadikan table."
   ]
  },
  {
   "cell_type": "markdown",
   "id": "60301acf-63a5-4c6f-bc49-2cb9cd9a4806",
   "metadata": {},
   "source": [
    "## Apa yang bisa dilakukan Pandas ?\n",
    "\n",
    "* Read from and write to CSV, other file and database.\n",
    "* Calculate statisticss and answer question about the data, like What's   the average, median, max, or min of   each column ?\n",
    "     * Does column A correlate with column B ?\n",
    "     * What does the distribution of data in column C look like ?\n",
    "* Clean the data by doing things like removing missing values and filtering rows or columns by some criteria Visualize the data with help from Mtplotlib. Plot bars, lines histograms, bubbles, and more.\n",
    "* Kita juga dapat mengolah data dengan menggunakan operasi seperti join, distinct, group by, agregasi, dan teknik lainnya yang terdapat pada SQL.\n"
   ]
  },
  {
   "cell_type": "markdown",
   "id": "177e87dd-767b-4157-85b7-3910ec4997d3",
   "metadata": {},
   "source": [
    "## Install dan Import\n",
    "\n",
    "* Install :\n",
    "    * conda install pandas atau\n",
    "    * pip install pandas\n",
    "* Jika akan menggunakan di dalam program, perlu dilakukan import :\n",
    "    * import pandas\n",
    "    * atau biasanya untuk menyingkat penulisan saat diakses, maka diberi nama alias, misalnya \"pd\"\n",
    "    * import pandas as pd"
   ]
  },
  {
   "cell_type": "markdown",
   "id": "8f590bd0-3993-48a9-89a0-42246477cd81",
   "metadata": {},
   "source": [
    "## Pembuatan DataFrame\n",
    "\n",
    "* Dataframe dapat terbentuk berasal dari hasil pembacaan data atau bisa juga dibuat sendiri (created from the scratch)\n",
    "* Banyak cara untuk membuat dataframe, cara paling sederhana adalah dengan menggunakan sstruktur data dict dalam python\n",
    "* Contoh :\n",
    "    * Misal akan dibuat dataframe penjualan apple dan orange\n",
    "    * Kolom berisi jenis buah, sedangkan setiap baris berisi besarnya penjualan\n",
    "    "
   ]
  },
  {
   "cell_type": "markdown",
   "id": "d1e8e961-c7ed-45b0-9864-13fcf5199649",
   "metadata": {},
   "source": [
    "Pandas merupakan salah satu package yang sangat membantu kita dalam pengolahan data dengan menggunakan bahasa Python. Hal ini karena pada pandas menyediakan fitur dataframe. Dengan dataframe, kita bisa menjadikan file terbaca menjadi sebuah tabel. File yang didukung seperti .txt, .csv, .tsv, dan lainnya."
   ]
  },
  {
   "cell_type": "markdown",
   "id": "8ee63978-ee59-4cbb-9864-357f4a12b946",
   "metadata": {},
   "source": [
    "## Mengimpor Pandas"
   ]
  },
  {
   "cell_type": "code",
   "execution_count": 6,
   "id": "271fec19-22f2-4538-88e5-5374fb33caec",
   "metadata": {},
   "outputs": [],
   "source": [
    "import pandas as pd"
   ]
  },
  {
   "cell_type": "markdown",
   "id": "a6da8ae3-0367-494b-867a-339b84e7b1e1",
   "metadata": {},
   "source": [
    "## Import .txt"
   ]
  },
  {
   "cell_type": "markdown",
   "id": "1869c2ac-72c3-4ddf-8948-b18734f9cf83",
   "metadata": {},
   "source": [
    "Siapkan dahulu file txt (dengan jarak antar data misal menggunakan tab) di folder yang sama dengan program."
   ]
  },
  {
   "cell_type": "code",
   "execution_count": 7,
   "id": "6833d3d6-86a0-4ab2-94dd-b3acbe905553",
   "metadata": {},
   "outputs": [
    {
     "name": "stdout",
     "output_type": "stream",
     "text": [
      "   A\\tB\n",
      "0  1\\t2\n",
      "1  4\\t3\n",
      "2  4\\t2\n"
     ]
    }
   ],
   "source": [
    "data1 = pd.read_csv(\"data.txt\")\n",
    "print(data1)"
   ]
  },
  {
   "cell_type": "code",
   "execution_count": 8,
   "id": "73a29bd2-64d3-4d7d-a673-a70e50ab4e01",
   "metadata": {},
   "outputs": [
    {
     "name": "stdout",
     "output_type": "stream",
     "text": [
      "   A  B\n",
      "0  1  2\n",
      "1  4  3\n",
      "2  4  2\n"
     ]
    }
   ],
   "source": [
    "data2 = pd.read_csv(\"data.txt\", delimiter = \"\\t\")\n",
    "print(data2)"
   ]
  },
  {
   "cell_type": "markdown",
   "id": "4c03d3c1-eb0e-4682-b755-053ed86f7f93",
   "metadata": {},
   "source": [
    "## Import .csv"
   ]
  },
  {
   "cell_type": "markdown",
   "id": "6961d0b2-fa50-482f-8d0c-13d1e4fc14fb",
   "metadata": {},
   "source": [
    "Siapkan terlebih dahulu file csv di folder yang sama dengan program"
   ]
  },
  {
   "cell_type": "code",
   "execution_count": 9,
   "id": "7117df34-024b-4574-9adc-d2e66496da88",
   "metadata": {},
   "outputs": [
    {
     "name": "stdout",
     "output_type": "stream",
     "text": [
      "   A\\tB\n",
      "0  1\\t2\n",
      "1  4\\t3\n",
      "2  4\\t2\n"
     ]
    }
   ],
   "source": [
    "data3 = pd.read_csv(\"data.txt\")\n",
    "print(data3)"
   ]
  },
  {
   "cell_type": "code",
   "execution_count": 10,
   "id": "7b8a8e36-f3eb-449c-9080-f97d4aa2da63",
   "metadata": {},
   "outputs": [
    {
     "name": "stdout",
     "output_type": "stream",
     "text": [
      "   A  B\n",
      "0  1  2\n",
      "1  4  3\n",
      "2  4  2\n"
     ]
    }
   ],
   "source": [
    "data4 = pd.read_csv(\"data.txt\", delimiter = \"\\s+\")\n",
    "print(data4)"
   ]
  },
  {
   "cell_type": "markdown",
   "id": "f4325eaa-4342-4682-bca2-269aa49ed262",
   "metadata": {},
   "source": [
    "## Melihat Tabel"
   ]
  },
  {
   "cell_type": "code",
   "execution_count": 11,
   "id": "350e7b29-279e-4fb9-bff2-e85083775848",
   "metadata": {},
   "outputs": [
    {
     "data": {
      "text/html": [
       "<div>\n",
       "<style scoped>\n",
       "    .dataframe tbody tr th:only-of-type {\n",
       "        vertical-align: middle;\n",
       "    }\n",
       "\n",
       "    .dataframe tbody tr th {\n",
       "        vertical-align: top;\n",
       "    }\n",
       "\n",
       "    .dataframe thead th {\n",
       "        text-align: right;\n",
       "    }\n",
       "</style>\n",
       "<table border=\"1\" class=\"dataframe\">\n",
       "  <thead>\n",
       "    <tr style=\"text-align: right;\">\n",
       "      <th></th>\n",
       "      <th>A</th>\n",
       "      <th>B</th>\n",
       "    </tr>\n",
       "  </thead>\n",
       "  <tbody>\n",
       "    <tr>\n",
       "      <th>0</th>\n",
       "      <td>1</td>\n",
       "      <td>2</td>\n",
       "    </tr>\n",
       "    <tr>\n",
       "      <th>1</th>\n",
       "      <td>4</td>\n",
       "      <td>3</td>\n",
       "    </tr>\n",
       "    <tr>\n",
       "      <th>2</th>\n",
       "      <td>4</td>\n",
       "      <td>2</td>\n",
       "    </tr>\n",
       "  </tbody>\n",
       "</table>\n",
       "</div>"
      ],
      "text/plain": [
       "   A  B\n",
       "0  1  2\n",
       "1  4  3\n",
       "2  4  2"
      ]
     },
     "execution_count": 11,
     "metadata": {},
     "output_type": "execute_result"
    }
   ],
   "source": [
    "#semua\n",
    "data2"
   ]
  },
  {
   "cell_type": "code",
   "execution_count": 12,
   "id": "0f9bbb7d-2a18-4428-b6ca-b18ebd6f0003",
   "metadata": {},
   "outputs": [
    {
     "data": {
      "text/html": [
       "<div>\n",
       "<style scoped>\n",
       "    .dataframe tbody tr th:only-of-type {\n",
       "        vertical-align: middle;\n",
       "    }\n",
       "\n",
       "    .dataframe tbody tr th {\n",
       "        vertical-align: top;\n",
       "    }\n",
       "\n",
       "    .dataframe thead th {\n",
       "        text-align: right;\n",
       "    }\n",
       "</style>\n",
       "<table border=\"1\" class=\"dataframe\">\n",
       "  <thead>\n",
       "    <tr style=\"text-align: right;\">\n",
       "      <th></th>\n",
       "      <th>A</th>\n",
       "      <th>B</th>\n",
       "    </tr>\n",
       "  </thead>\n",
       "  <tbody>\n",
       "    <tr>\n",
       "      <th>0</th>\n",
       "      <td>1</td>\n",
       "      <td>2</td>\n",
       "    </tr>\n",
       "    <tr>\n",
       "      <th>1</th>\n",
       "      <td>4</td>\n",
       "      <td>3</td>\n",
       "    </tr>\n",
       "    <tr>\n",
       "      <th>2</th>\n",
       "      <td>4</td>\n",
       "      <td>2</td>\n",
       "    </tr>\n",
       "  </tbody>\n",
       "</table>\n",
       "</div>"
      ],
      "text/plain": [
       "   A  B\n",
       "0  1  2\n",
       "1  4  3\n",
       "2  4  2"
      ]
     },
     "execution_count": 12,
     "metadata": {},
     "output_type": "execute_result"
    }
   ],
   "source": [
    "#sebagian yang di atas (karena datanya sedikit maka yang tampil semua, silahkan mencoba dengan data yang lebih banya lagi sendiri)\n",
    "data2.head()"
   ]
  },
  {
   "cell_type": "markdown",
   "id": "714469fe-7ea8-4b30-b696-c7a774f112f6",
   "metadata": {},
   "source": [
    "## Membuat Dataframe sendiri"
   ]
  },
  {
   "cell_type": "code",
   "execution_count": 15,
   "id": "b79e1003-31dc-4f90-a8a2-1e19c5792804",
   "metadata": {},
   "outputs": [
    {
     "name": "stdout",
     "output_type": "stream",
     "text": [
      "Empty DataFrame\n",
      "Columns: []\n",
      "Index: []\n"
     ]
    }
   ],
   "source": [
    "df = pd.DataFrame()\n",
    "print(df)"
   ]
  },
  {
   "cell_type": "code",
   "execution_count": 17,
   "id": "ddc7ae46-5c26-43c8-a232-83c02bed5496",
   "metadata": {},
   "outputs": [
    {
     "name": "stdout",
     "output_type": "stream",
     "text": [
      "   0\n",
      "0  1\n",
      "1  2\n",
      "2  3\n",
      "3  4\n",
      "4  5\n"
     ]
    }
   ],
   "source": [
    "data = [1,2,3,4,5]\n",
    "df1 = pd.DataFrame(data)\n",
    "print(df1)"
   ]
  },
  {
   "cell_type": "code",
   "execution_count": 19,
   "id": "261a84d5-7899-4492-9f1e-f7d76c3e662d",
   "metadata": {},
   "outputs": [
    {
     "name": "stdout",
     "output_type": "stream",
     "text": [
      "       Nama  Usia\n",
      "0  Purwanto    32\n",
      "1   Purnomo    43\n",
      "2     Purwo    55\n"
     ]
    }
   ],
   "source": [
    "data = [[\"Purwanto\",32],[\"Purnomo\",43],[\"Purwo\",55]]\n",
    "df2 = pd.DataFrame(data,columns=[\"Nama\", \"Usia\"])\n",
    "print(df2)"
   ]
  },
  {
   "cell_type": "markdown",
   "id": "99e8d085-0867-4041-bfd0-48cb214f666f",
   "metadata": {},
   "source": [
    "## Memanggil data tertentu pada dataframe\n",
    "\n",
    "Misal kita mempunyai dataframe sebagai berikut :"
   ]
  },
  {
   "cell_type": "code",
   "execution_count": 20,
   "id": "d2f7244e-65e6-4b3d-abe1-13266cadd27a",
   "metadata": {},
   "outputs": [
    {
     "name": "stdout",
     "output_type": "stream",
     "text": [
      "       Nama  Usia\n",
      "0  Purwanto    32\n",
      "1   Purnomo    43\n",
      "2     Purwo    55\n"
     ]
    }
   ],
   "source": [
    "data = [[\"Purwanto\",32],[\"Purnomo\",43],[\"Purwo\",55]]\n",
    "df2 = pd.DataFrame(data,columns=[\"Nama\", \"Usia\"])\n",
    "print(df2)"
   ]
  },
  {
   "cell_type": "markdown",
   "id": "ae9d8e08-d0ea-4410-95c8-5d51bacebf92",
   "metadata": {},
   "source": [
    "Dan ingin memanggil kolom tertentu"
   ]
  },
  {
   "cell_type": "code",
   "execution_count": 21,
   "id": "2ff407fd-4f5f-454f-8b24-59470ce5e485",
   "metadata": {},
   "outputs": [
    {
     "data": {
      "text/plain": [
       "0    Purwanto\n",
       "1     Purnomo\n",
       "2       Purwo\n",
       "Name: Nama, dtype: object"
      ]
     },
     "execution_count": 21,
     "metadata": {},
     "output_type": "execute_result"
    }
   ],
   "source": [
    "df2[\"Nama\"]"
   ]
  },
  {
   "cell_type": "code",
   "execution_count": 22,
   "id": "9072d2b5-36e9-41b8-913e-954d723cf307",
   "metadata": {},
   "outputs": [
    {
     "data": {
      "text/plain": [
       "0    32\n",
       "1    43\n",
       "2    55\n",
       "Name: Usia, dtype: int64"
      ]
     },
     "execution_count": 22,
     "metadata": {},
     "output_type": "execute_result"
    }
   ],
   "source": [
    "df2[\"Usia\"]"
   ]
  },
  {
   "cell_type": "code",
   "execution_count": 23,
   "id": "b2a399a9-75e8-4415-90f3-3ae606855d82",
   "metadata": {},
   "outputs": [
    {
     "data": {
      "text/plain": [
       "'Purwanto'"
      ]
     },
     "execution_count": 23,
     "metadata": {},
     "output_type": "execute_result"
    }
   ],
   "source": [
    "df2[\"Nama\"][0]"
   ]
  },
  {
   "cell_type": "code",
   "execution_count": 24,
   "id": "f289a07f-68e1-4f40-a07b-8ad6c65fb5d0",
   "metadata": {},
   "outputs": [
    {
     "data": {
      "text/plain": [
       "'Purwanto'"
      ]
     },
     "execution_count": 24,
     "metadata": {},
     "output_type": "execute_result"
    }
   ],
   "source": [
    "df2.iloc[0][0]"
   ]
  },
  {
   "cell_type": "code",
   "execution_count": 25,
   "id": "49e3fe78-248c-4ba2-b01b-3ad69d8cdfb5",
   "metadata": {},
   "outputs": [
    {
     "data": {
      "text/plain": [
       "'Purwanto'"
      ]
     },
     "execution_count": 25,
     "metadata": {},
     "output_type": "execute_result"
    }
   ],
   "source": [
    "df2.loc[0][\"Nama\"]"
   ]
  },
  {
   "cell_type": "code",
   "execution_count": 26,
   "id": "39f07178-4a2a-4f1e-8746-c66d2202d0da",
   "metadata": {},
   "outputs": [
    {
     "data": {
      "text/plain": [
       "0    Purwanto\n",
       "1     Purnomo\n",
       "2       Purwo\n",
       "Name: Nama, dtype: object"
      ]
     },
     "execution_count": 26,
     "metadata": {},
     "output_type": "execute_result"
    }
   ],
   "source": [
    "df2.loc[:,\"Nama\"]"
   ]
  },
  {
   "cell_type": "markdown",
   "id": "3f4f4da1-a39e-44a1-84c8-827c4e7bdf72",
   "metadata": {},
   "source": [
    "## Ekspor DataFrame"
   ]
  },
  {
   "cell_type": "code",
   "execution_count": 34,
   "id": "198149fc-2333-4999-b7f3-625d7528f976",
   "metadata": {},
   "outputs": [
    {
     "name": "stdout",
     "output_type": "stream",
     "text": [
      "[[ 1 32]\n",
      " [ 2 43]\n",
      " [ 4 55]]\n"
     ]
    }
   ],
   "source": [
    "#import pandas dan numpy\n",
    "import pandas as pd\n",
    "import numpy as np\n",
    "#Misal kita punya satu dataframe\n",
    "data = [[1,32],[2,43],[4,55]]\n",
    "df = pd.DataFrame(data,columns=[\"Nama\",\"Usia\"])\n",
    "#Convert ke numpy array\n",
    "databaru = df.to_numpy()\n",
    "print(databaru)\n",
    "#Convert ke txt\n",
    "df.to_csv(\"dataexport.txt\")\n",
    "#Convert ke csv\n",
    "df.to_csv(\"dataexport.csv\")"
   ]
  }
 ],
 "metadata": {
  "kernelspec": {
   "display_name": "Python 3 (ipykernel)",
   "language": "python",
   "name": "python3"
  },
  "language_info": {
   "codemirror_mode": {
    "name": "ipython",
    "version": 3
   },
   "file_extension": ".py",
   "mimetype": "text/x-python",
   "name": "python",
   "nbconvert_exporter": "python",
   "pygments_lexer": "ipython3",
   "version": "3.10.2"
  }
 },
 "nbformat": 4,
 "nbformat_minor": 5
}
